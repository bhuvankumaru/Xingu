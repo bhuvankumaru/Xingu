{
 "cells": [
  {
   "cell_type": "code",
   "execution_count": null,
   "id": "132f11d8",
   "metadata": {},
   "outputs": [],
   "source": [
    "import asf_search as asf\n",
    "import hyp3_sdk as sdk\n",
    "import os"
   ]
  },
  {
   "cell_type": "code",
   "execution_count": null,
   "id": "146d70eb",
   "metadata": {},
   "outputs": [],
   "source": [
    "# .netrc\n",
    "hyp3 = sdk.HyP3()\n"
   ]
  },
  {
   "cell_type": "code",
   "execution_count": null,
   "id": "b415c7be",
   "metadata": {},
   "outputs": [],
   "source": [
    "#for path 68 Frame 604\n",
    "granules = [\n",
    "    'S1A_IW_GRDH_1SDV_20231023T090701_20231023T090726_050890_062259_BA33',\n",
    "    'S1A_IW_GRDH_1SDV_20230929T090701_20230929T090726_050540_061661_42CC',\n",
    "    'S1A_IW_GRDH_1SDV_20221028T090656_20221028T090721_045640_057521_344D',\n",
    "    'S1A_IW_GRDH_1SDV_20221016T090656_20221016T090721_045465_056FDD_B01F',\n",
    "    'S1A_IW_GRDH_1SDV_20211021T090653_20211021T090718_040215_04C386_5A6C',\n",
    "    'S1A_IW_GRDH_1SDV_20211009T090653_20211009T090718_040040_04BD72_09F2',\n",
    "    'S1A_IW_GRDH_1SDV_20201026T090647_20201026T090712_034965_0413F5_EE11',\n",
    "    'S1A_IW_GRDH_1SDV_20201002T090647_20201002T090712_034615_0407D4_45BA',\n",
    "    'S1A_IW_GRDH_1SDV_20191101T090641_20191101T090706_029715_0362D1_5EAA',\n",
    "    'S1A_IW_GRDH_1SDV_20191008T090641_20191008T090706_029365_0356AD_E640',\n",
    "    'S1A_IW_GRDH_1SDV_20181025T090634_20181025T090659_024290_02A89A_5683',\n",
    "    'S1A_IW_GRDH_1SDV_20181013T090634_20181013T090659_024115_02A2F2_8556',\n",
    "    'S1A_IW_GRDH_1SDV_20171030T090628_20171030T090653_019040_02032F_859B',\n",
    "    'S1A_IW_GRDH_1SDV_20171018T090628_20171018T090653_018865_01FDDD_224C',\n",
    "    'S1A_IW_GRDH_1SDV_20161023T090621_20161023T090646_013615_015D0C_2330',\n",
    "    'S1A_IW_GRDH_1SDV_20161011T090621_20161011T090646_013440_01578C_E2C9',\n",
    "    'S1A_IW_GRDH_1SDV_20160121T090609_20160121T090634_009590_00DF4C_2D6A'\n",
    "]"
   ]
  },
  {
   "cell_type": "code",
   "execution_count": null,
   "id": "c3fa30d5",
   "metadata": {},
   "outputs": [],
   "source": [
    "\n",
    "#for path 68 Frame 599\n",
    "granules = [\n",
    "    'S1A_IW_GRDH_1SDV_20231023T090636_20231023T090701_050890_062259_61DD',\n",
    "    'S1A_IW_GRDH_1SDV_20231011T090635_20231011T090708_050715_061C67_4270',\n",
    "    'S1A_IW_GRDH_1SDV_20221028T090631_20221028T090656_045640_057521_3B61',\n",
    "    'S1A_IW_GRDH_1SDV_20221016T090631_20221016T090656_045465_056FDD_7214',\n",
    "    'S1A_IW_GRDH_1SDV_20211021T090628_20211021T090653_040215_04C386_1764',\n",
    "    'S1A_IW_GRDH_1SDV_20211009T090628_20211009T090653_040040_04BD72_E3DE',\n",
    "    'S1A_IW_GRDH_1SDV_20201026T090622_20201026T090647_034965_0413F5_4266',\n",
    "    'S1A_IW_GRDH_1SDV_20201002T090622_20201002T090647_034615_0407D4_7227',\n",
    "    'S1A_IW_GRDH_1SDV_20191101T090616_20191101T090641_029715_0362D1_AF5A',\n",
    "    'S1A_IW_GRDH_1SDV_20191008T090616_20191008T090641_029365_0356AD_6B7F',\n",
    "    'S1A_IW_GRDH_1SDV_20181025T090609_20181025T090634_024290_02A89A_4046',\n",
    "    'S1A_IW_GRDH_1SDV_20181013T090609_20181013T090634_024115_02A2F2_0072',\n",
    "    'S1A_IW_GRDH_1SDV_20171030T090603_20171030T090628_019040_02032F_3604',\n",
    "    'S1A_IW_GRDH_1SDV_20171018T090603_20171018T090628_018865_01FDDD_B22E',\n",
    "    'S1A_IW_GRDH_1SDV_20161023T090556_20161023T090621_013615_015D0C_2D29',\n",
    "    'S1A_IW_GRDH_1SDV_20161011T090556_20161011T090621_013440_01578C_1335',\n",
    "    'S1A_IW_GRDH_1SDV_20160121T090544_20160121T090609_009590_00DF4C_D276'\n",
    "]\n",
    "\n",
    "job_name ='Xingu_68_599_DPHR';\n",
    "rtc_jobs = sdk.Batch()\n",
    "for g in granules:\n",
    "    rtc_jobs += hyp3.submit_rtc_job(g, name=job_name,resolution=10,scale='decibel',speckle_filter=True,\n",
    "                                   radiometry='gamma0')\n",
    "print(rtc_jobs)"
   ]
  },
  {
   "cell_type": "code",
   "execution_count": null,
   "id": "f1ea3761",
   "metadata": {},
   "outputs": [],
   "source": [
    "rtc_jobs = hyp3.find_jobs(name='Xingu_68_599_DPHR')\n",
    "rtc_jobs = hyp3.watch(rtc_jobs)\n"
   ]
  },
  {
   "cell_type": "code",
   "execution_count": null,
   "id": "b22fd7be",
   "metadata": {},
   "outputs": [],
   "source": [
    "job_name ='Xingu_68_599_DPHR';\n",
    "download_dir =os.getcwd()+'/'+job_name;\n",
    "file_list = rtc_jobs.download_files(location=download_dir,create=True)\n"
   ]
  },
  {
   "cell_type": "code",
   "execution_count": null,
   "id": "37169212",
   "metadata": {},
   "outputs": [],
   "source": [
    "# !mkdir Sentine1_RTC_Zipped\n",
    "# !mv S1A_*.zip  Sentine1_RTC_Zipped/.\n",
    "# !ls"
   ]
  },
  {
   "cell_type": "code",
   "execution_count": null,
   "id": "ecbaddba",
   "metadata": {},
   "outputs": [],
   "source": [
    "!$PWD"
   ]
  },
  {
   "cell_type": "code",
   "execution_count": null,
   "id": "f06c0349",
   "metadata": {},
   "outputs": [],
   "source": []
  }
 ],
 "metadata": {
  "kernelspec": {
   "display_name": "hyp3",
   "language": "python",
   "name": "hyp3"
  },
  "language_info": {
   "codemirror_mode": {
    "name": "ipython",
    "version": 3
   },
   "file_extension": ".py",
   "mimetype": "text/x-python",
   "name": "python",
   "nbconvert_exporter": "python",
   "pygments_lexer": "ipython3",
   "version": "3.9.19"
  }
 },
 "nbformat": 4,
 "nbformat_minor": 5
}
