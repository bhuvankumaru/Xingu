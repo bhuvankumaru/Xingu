{
 "cells": [
  {
   "cell_type": "markdown",
   "id": "0d1c0765",
   "metadata": {},
   "source": [
    "# Hydro period calculation\n",
    "\n",
    "- Given a series of land-water mask sentinel-1 RTC images, the code computes Hydroperiod\n",
    "- Hydroperiod = no. of times a pixel appeared as water in mask / total number of masks"
   ]
  },
  {
   "cell_type": "code",
   "execution_count": null,
   "id": "52efc614",
   "metadata": {},
   "outputs": [],
   "source": [
    "import numpy as np\n",
    "from osgeo import gdal,ogr, gdalconst\n",
    "import subprocess\n",
    "import glob\n",
    "import os\n",
    "from datetime import datetime\n",
    "import matplotlib.pyplot as plt\n",
    "import utm\n",
    "import rasterio\n",
    "from rasterio.enums import Resampling\n",
    "from rasterio.warp import calculate_default_transform, reproject\n",
    "from skimage.filters import threshold_otsu"
   ]
  },
  {
   "cell_type": "code",
   "execution_count": null,
   "id": "7dc06ad2",
   "metadata": {},
   "outputs": [],
   "source": [
    "def compute_hydroperiod(time_series_paths):\n",
    "    hydroperiods = []\n",
    "    \n",
    "    for image_path in time_series_paths:\n",
    "        with rasterio.open(image_path) as src:\n",
    "            land_water_mask = src.read(1)\n",
    "            hydroperiods.append(land_water_mask)\n",
    "    \n",
    "    # Sum the hydroperiods across the time series\n",
    "    aggregated_hydroperiod = np.sum(hydroperiods, axis=0)\n",
    "    # Normalize hydroperiod values (optional)\n",
    "    hydroperiod = aggregated_hydroperiod / len(hydroperiods);\n",
    "    hydroperiod[hydroperiod < 0] = -9999\n",
    "    \n",
    "    return hydroperiod\n",
    "\n",
    "# Example usage\n",
    "year = '2016'\n",
    "LW_mask_dir = '/Users/bvarugu/Documents/Belomonte/Xingu_68_604_599_merged/VV_tifs/subset_tifs'\n",
    "time_series_paths = sorted(glob.glob(LW_mask_dir+'/LW_mask__{}*.tif'.format(year)));\n",
    "print(time_series_paths)\n",
    "hydroperiod_2016 = compute_hydroperiod(time_series_paths);\n",
    "\n",
    "\n",
    "\n"
   ]
  },
  {
   "cell_type": "code",
   "execution_count": null,
   "id": "5dab35de",
   "metadata": {},
   "outputs": [],
   "source": [
    "sample_rtc_file = sorted(glob.glob(os.path.join(LW_mask_dir, f'subset_{year}*_VV.tif')))[0]\n",
    "with rasterio.open(sample_rtc_file) as src_rtc:\n",
    "    rtc_profile = src_rtc.profile\n",
    "    rtc_crs = src_rtc.crs\n",
    "    rtc_transform = src_rtc.transform\n",
    "    rtc_width = src_rtc.width\n",
    "    rtc_height = src_rtc.height\n",
    "\n",
    "def save_hydroperiod(hydroperiod, transform, crs, profile, output_path):\n",
    "    profile.update(dtype=rasterio.float32, count=1, compress='lzw', transform=transform)\n",
    "    with rasterio.open(output_path, 'w', **profile) as dst:\n",
    "        dst.write(hydroperiod.astype(rasterio.float32), 1);\n",
    "        dst.crs = crs\n",
    "output_file = 'Hydroperiod_{}.tif'.format(year)\n",
    "save_hydroperiod(hydroperiod_2016, rtc_transform, rtc_crs, rtc_profile, output_file)"
   ]
  },
  {
   "cell_type": "code",
   "execution_count": null,
   "id": "7e82eca4",
   "metadata": {},
   "outputs": [],
   "source": []
  }
 ],
 "metadata": {
  "kernelspec": {
   "display_name": "Python 3 (ipykernel)",
   "language": "python",
   "name": "python3"
  },
  "language_info": {
   "codemirror_mode": {
    "name": "ipython",
    "version": 3
   },
   "file_extension": ".py",
   "mimetype": "text/x-python",
   "name": "python",
   "nbconvert_exporter": "python",
   "pygments_lexer": "ipython3",
   "version": "3.8.10"
  }
 },
 "nbformat": 4,
 "nbformat_minor": 5
}
