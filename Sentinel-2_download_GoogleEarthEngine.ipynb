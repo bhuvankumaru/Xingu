{
 "cells": [
  {
   "cell_type": "markdown",
   "id": "fc0d7947",
   "metadata": {},
   "source": [
    "# Code computed Sentinel-2 NDWI on GEE and downloads\n",
    "\n",
    "- Requires a GEE account\n",
    "- Outputs will be saved to google drive and can be downloaded"
   ]
  },
  {
   "cell_type": "code",
   "execution_count": null,
   "id": "73c818e2",
   "metadata": {},
   "outputs": [],
   "source": [
    "import ee\n",
    "import geemap\n",
    "from pyproj import Proj, transform"
   ]
  },
  {
   "cell_type": "markdown",
   "id": "4808c732",
   "metadata": {},
   "source": [
    "### Do this when you are using the notebook for the first time\n",
    "\n",
    "- Uncomment the ee.Authenticate() line"
   ]
  },
  {
   "cell_type": "code",
   "execution_count": null,
   "id": "184cc64a",
   "metadata": {},
   "outputs": [],
   "source": [
    "# Initialize the Earth Engine library. \n",
    "#ee.Authenticate()"
   ]
  },
  {
   "cell_type": "code",
   "execution_count": null,
   "id": "7ff7e8e5",
   "metadata": {},
   "outputs": [],
   "source": [
    "ee.Initialize()"
   ]
  },
  {
   "cell_type": "markdown",
   "id": "425a127c",
   "metadata": {},
   "source": [
    "## Define the bounding box and coordinate system for data"
   ]
  },
  {
   "cell_type": "code",
   "execution_count": null,
   "id": "702744ce",
   "metadata": {},
   "outputs": [],
   "source": [
    "# Define the UTM bounds\n",
    "utm_zone = '22S'  # Example UTM zone\n",
    "utm_bounds = {\n",
    "    \"x_min\": 333550,\n",
    "    \"y_min\": 9588140,\n",
    "    \"x_max\": 441429,\n",
    "    \"y_max\": 9800000\n",
    "}\n",
    "utm_proj = Proj(proj=\"utm\", zone=22,south=True, ellps=\"WGS84\")\n",
    "wgs84_proj = Proj(proj=\"latlong\", datum=\"WGS84\")\n",
    "\n",
    "# Convert UTM to geographic coordinates\n",
    "lon_min, lat_min = transform(utm_proj, wgs84_proj, utm_bounds[\"x_min\"], utm_bounds[\"y_min\"])\n",
    "lon_max, lat_max = transform(utm_proj, wgs84_proj, utm_bounds[\"x_max\"], utm_bounds[\"y_max\"])\n",
    "\n",
    "\n",
    "\n",
    "aoi = ee.Geometry.Rectangle([lon_min, lat_min, lon_max, lat_max])"
   ]
  },
  {
   "cell_type": "markdown",
   "id": "45f3f815",
   "metadata": {},
   "source": [
    "## Define the time range and cloud cover.\n"
   ]
  },
  {
   "cell_type": "code",
   "execution_count": null,
   "id": "326ce08d",
   "metadata": {},
   "outputs": [],
   "source": [
    "# Fetch Sentinel-2 images\n",
    "start_date = '2016-08-01'\n",
    "end_date = '2016-12-31'\n",
    "\n",
    "sentinel2_collection = ee.ImageCollection('COPERNICUS/S2') \\\n",
    "    .filterDate(start_date, end_date) \\\n",
    "    .filterBounds(aoi) \\\n",
    "    .filter(ee.Filter.lt('CLOUDY_PIXEL_PERCENTAGE', 10))\n"
   ]
  },
  {
   "cell_type": "markdown",
   "id": "99430c79",
   "metadata": {},
   "source": [
    "## Compute NDWI\n",
    "\n",
    "- currently it calculates an yearly median to compare with yearly SAR masks"
   ]
  },
  {
   "cell_type": "code",
   "execution_count": null,
   "id": "52bdad1d",
   "metadata": {},
   "outputs": [],
   "source": [
    "def compute_ndwi(image):\n",
    "    ndwi = image.normalizedDifference(['B3', 'B8']).rename('NDWI')\n",
    "    return image.addBands(ndwi)\n",
    "\n",
    "# Map the NDWI function over the collection\n",
    "sentinel2_ndwi = sentinel2_collection.map(compute_ndwi)\n",
    "\n",
    "# Reduce the collection to a single image by taking the median\n",
    "ndwi_image = sentinel2_ndwi.select('NDWI').median().clip(aoi)"
   ]
  },
  {
   "cell_type": "markdown",
   "id": "fdbe027b",
   "metadata": {},
   "source": [
    "## Display the Map"
   ]
  },
  {
   "cell_type": "code",
   "execution_count": null,
   "id": "c4b018cd",
   "metadata": {},
   "outputs": [],
   "source": [
    "\n",
    "# Create a map centered on the AOI\n",
    "Map = geemap.Map(center=[(lat_min + lat_max) / 2, (lon_min + lon_max) / 2], zoom=10)\n",
    "\n",
    "# Add the NDWI layer to the map\n",
    "ndwi_params = {\n",
    "    'min': -1,\n",
    "    'max': 1,\n",
    "    'palette': ['blue', 'white', 'green']\n",
    "}\n",
    "Map.addLayer(ndwi_image, ndwi_params, 'NDWI')\n",
    "\n",
    "# Display the map\n",
    "Map"
   ]
  },
  {
   "cell_type": "markdown",
   "id": "b16466a1",
   "metadata": {},
   "source": [
    "## Export to Google drive.\n",
    "\n",
    "- Input the image name in the description"
   ]
  },
  {
   "cell_type": "code",
   "execution_count": null,
   "id": "02e023bd",
   "metadata": {},
   "outputs": [],
   "source": [
    "export_task = ee.batch.Export.image.toDrive(**{\n",
    "    'image': ndwi_image,\n",
    "    'description': 'NDWI_Map_Sentinel2_Xingu_2016',\n",
    "    'folder': 'EarthEngineImages',\n",
    "    'scale': 10,\n",
    "    'region': aoi,\n",
    "    'fileFormat': 'GeoTIFF',\n",
    "    'maxPixels': 1e9\n",
    "})\n",
    "\n",
    "export_task.start()\n",
    "\n",
    "import time\n",
    "\n",
    "while export_task.active():\n",
    "    print('Polling for task (id: {}).'.format(export_task.id))\n",
    "    time.sleep(30)  # Poll every 30 seconds\n",
    "\n",
    "print('Export task finished.')\n"
   ]
  },
  {
   "cell_type": "code",
   "execution_count": null,
   "id": "bffabdd5",
   "metadata": {},
   "outputs": [],
   "source": []
  }
 ],
 "metadata": {
  "kernelspec": {
   "display_name": "sentinel2",
   "language": "python",
   "name": "sentinel2"
  },
  "language_info": {
   "codemirror_mode": {
    "name": "ipython",
    "version": 3
   },
   "file_extension": ".py",
   "mimetype": "text/x-python",
   "name": "python",
   "nbconvert_exporter": "python",
   "pygments_lexer": "ipython3",
   "version": "3.12.2"
  }
 },
 "nbformat": 4,
 "nbformat_minor": 5
}
